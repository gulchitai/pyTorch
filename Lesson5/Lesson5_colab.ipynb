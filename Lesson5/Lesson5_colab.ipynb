{
  "nbformat": 4,
  "nbformat_minor": 0,
  "metadata": {
    "kernelspec": {
      "display_name": "Python 3",
      "language": "python",
      "name": "python3"
    },
    "language_info": {
      "codemirror_mode": {
        "name": "ipython",
        "version": 3
      },
      "file_extension": ".py",
      "mimetype": "text/x-python",
      "name": "python",
      "nbconvert_exporter": "python",
      "pygments_lexer": "ipython3",
      "version": "3.7.4"
    },
    "colab": {
      "name": "Lesson5.ipynb",
      "provenance": []
    }
  },
  "cells": [
    {
      "cell_type": "markdown",
      "metadata": {
        "id": "ZnoeoAQiEm4j"
      },
      "source": [
        "### Курсовая работа\n",
        "\n",
        "Задание по итогам курса\n",
        "\n",
        "Нужно написать приложение, которое будет считывать и выводить кадры с веб-камеры. В процессе считывания определять что перед камерой находится человек, задетектировав его лицо на кадре. После этого, человек показывает жесты руками, а алгоритм должен считать их и определенным образом реагировать на эти жесты.\n",
        "На то, как система будет реагировать на определенные жесты - выбор за вами. Например, на определенный жест (жест пис), система будет здороваться с человеком. На другой, будет делать скриншот экрана. И т.д.\n",
        "Для распознавания жестов, вам надо будет скачать датасет https://www.kaggle.com/gti-upm/leapgestrecog, разработать модель для обучения и обучить эту модель.\n",
        "\n",
        "*(Усложненное задание) Все тоже самое, но воспользоваться этим датасетом:\n",
        "https://fitnessallyapp.com/datasets/jester/v1"
      ]
    },
    {
      "cell_type": "markdown",
      "metadata": {
        "id": "-VhgSQEIEm4l"
      },
      "source": [
        "!pip install opencv-python"
      ]
    },
    {
      "cell_type": "code",
      "metadata": {
        "id": "cdsLlnENEm4n"
      },
      "source": [
        "import cv2\n",
        "from tqdm import tqdm\n",
        "from sklearn.preprocessing import StandardScaler\n",
        "\n",
        "import os\n",
        "import csv\n",
        "import glob\n",
        "import torch\n",
        "import torchvision\n",
        "import torch.nn as nn\n",
        "import numpy as np\n",
        "import pandas as pd\n",
        "import torch.nn.functional as F\n",
        "from torchvision.datasets import ImageFolder\n",
        "from torch.utils.data import DataLoader\n",
        "import torchvision.transforms as tt\n",
        "from torchvision.utils import make_grid\n",
        "import matplotlib.pyplot as plt\n",
        "%matplotlib inline\n",
        "import time\n",
        "from torch.autograd import Variable\n",
        "\n",
        "from PIL import Image"
      ],
      "execution_count": null,
      "outputs": []
    },
    {
      "cell_type": "markdown",
      "metadata": {
        "id": "mN1C7CisEm4z"
      },
      "source": [
        "Из большого датасета возьму только несколько классов"
      ]
    },
    {
      "cell_type": "code",
      "metadata": {
        "id": "NstokB_3Em41"
      },
      "source": [
        "LABELS = {\n",
        "    \"Swiping Right\": 0,\n",
        "    \"Swiping Left\": 1,\n",
        "    \"No gesture\": 2,\n",
        "    \"Thumb Up\": 3,\n",
        "}"
      ],
      "execution_count": null,
      "outputs": []
    },
    {
      "cell_type": "markdown",
      "metadata": {
        "id": "sFAKD8k_Em4-"
      },
      "source": [
        "### Отрисовка всех классов"
      ]
    },
    {
      "cell_type": "code",
      "metadata": {
        "id": "cksWpurTEm5A",
        "outputId": "8fc5120c-9a2b-42a6-9b1d-909d69c7149d"
      },
      "source": [
        "from IPython import display\n",
        "from IPython.display import HTML\n",
        "\n",
        "images = os.listdir(BASE_PATH + '/20bn-jester-v1/136859/')\n",
        "images2 = os.listdir(BASE_PATH + '/20bn-jester-v1/68574/')\n",
        "images3 = os.listdir(BASE_PATH + '/20bn-jester-v1/20706/')\n",
        "images4 = os.listdir(BASE_PATH + '/20bn-jester-v1/62818/')\n",
        "\n",
        "while True:\n",
        "    for f in images:\n",
        "        display.clear_output(wait=True)\n",
        "        display.display(Image(filename=BASE_PATH + '/20bn-jester-v1/136859/'+f))\n",
        "        display.display(HTML('<h3>Thumb Up</h3>'))\n",
        "        time.sleep(0.1)\n",
        "    for f in images2:\n",
        "        display.clear_output(wait=True)\n",
        "        display.display(Image(filename=BASE_PATH + '/20bn-jester-v1/68574/'+f))\n",
        "        display.display(HTML('<h3>Swiping Right</h3>'))\n",
        "        time.sleep(0.1)\n",
        "    for f in images3:\n",
        "        display.clear_output(wait=True)\n",
        "        display.display(Image(filename=BASE_PATH + '/20bn-jester-v1/20706/'+f))\n",
        "        display.display(HTML('<h3>No gesture</h3>'))\n",
        "        time.sleep(0.1)\n",
        "    for f in images4:\n",
        "        display.clear_output(wait=True)\n",
        "        display.display(Image(filename=BASE_PATH + '/20bn-jester-v1/62818/'+f))\n",
        "        display.display(HTML('<h3>Swiping Left</h3>'))\n",
        "        time.sleep(0.1)"
      ],
      "execution_count": null,
      "outputs": [
        {
          "output_type": "display_data",
          "data": {
            "image/jpeg": "[encoded data removed]",
            "text/plain": [
              "<IPython.core.display.Image object>"
            ]
          },
          "metadata": {
            "tags": []
          }
        },
        {
          "output_type": "display_data",
          "data": {
            "text/html": [
              "<h3>Swiping Right</h3>"
            ],
            "text/plain": [
              "<IPython.core.display.HTML object>"
            ]
          },
          "metadata": {
            "tags": []
          }
        },
        {
          "output_type": "error",
          "ename": "KeyboardInterrupt",
          "evalue": "",
          "traceback": [
            "\u001b[1;31m---------------------------------------------------------------------------\u001b[0m",
            "\u001b[1;31mKeyboardInterrupt\u001b[0m                         Traceback (most recent call last)",
            "\u001b[1;32m<ipython-input-19-438297e2d990>\u001b[0m in \u001b[0;36m<module>\u001b[1;34m\u001b[0m\n\u001b[0;32m     17\u001b[0m         \u001b[0mdisplay\u001b[0m\u001b[1;33m.\u001b[0m\u001b[0mdisplay\u001b[0m\u001b[1;33m(\u001b[0m\u001b[0mImage\u001b[0m\u001b[1;33m(\u001b[0m\u001b[0mfilename\u001b[0m\u001b[1;33m=\u001b[0m\u001b[0mBASE_PATH\u001b[0m \u001b[1;33m+\u001b[0m \u001b[1;34m'/20bn-jester-v1/68574/'\u001b[0m\u001b[1;33m+\u001b[0m\u001b[0mf\u001b[0m\u001b[1;33m)\u001b[0m\u001b[1;33m)\u001b[0m\u001b[1;33m\u001b[0m\u001b[1;33m\u001b[0m\u001b[0m\n\u001b[0;32m     18\u001b[0m         \u001b[0mdisplay\u001b[0m\u001b[1;33m.\u001b[0m\u001b[0mdisplay\u001b[0m\u001b[1;33m(\u001b[0m\u001b[0mHTML\u001b[0m\u001b[1;33m(\u001b[0m\u001b[1;34m'<h3>Swiping Right</h3>'\u001b[0m\u001b[1;33m)\u001b[0m\u001b[1;33m)\u001b[0m\u001b[1;33m\u001b[0m\u001b[1;33m\u001b[0m\u001b[0m\n\u001b[1;32m---> 19\u001b[1;33m         \u001b[0mtime\u001b[0m\u001b[1;33m.\u001b[0m\u001b[0msleep\u001b[0m\u001b[1;33m(\u001b[0m\u001b[1;36m0.1\u001b[0m\u001b[1;33m)\u001b[0m\u001b[1;33m\u001b[0m\u001b[1;33m\u001b[0m\u001b[0m\n\u001b[0m\u001b[0;32m     20\u001b[0m     \u001b[1;32mfor\u001b[0m \u001b[0mf\u001b[0m \u001b[1;32min\u001b[0m \u001b[0mimages3\u001b[0m\u001b[1;33m:\u001b[0m\u001b[1;33m\u001b[0m\u001b[1;33m\u001b[0m\u001b[0m\n\u001b[0;32m     21\u001b[0m         \u001b[0mdisplay\u001b[0m\u001b[1;33m.\u001b[0m\u001b[0mclear_output\u001b[0m\u001b[1;33m(\u001b[0m\u001b[0mwait\u001b[0m\u001b[1;33m=\u001b[0m\u001b[1;32mTrue\u001b[0m\u001b[1;33m)\u001b[0m\u001b[1;33m\u001b[0m\u001b[1;33m\u001b[0m\u001b[0m\n",
            "\u001b[1;31mKeyboardInterrupt\u001b[0m: "
          ]
        }
      ]
    },
    {
      "cell_type": "code",
      "metadata": {
        "id": "3W9uKrjNEm5M"
      },
      "source": [
        "from collections import namedtuple\n",
        "\n",
        "ListDataJpeg = namedtuple('ListDataJpeg', ['id', 'label', 'path'])\n",
        "\n",
        "class JpegDataset(object):\n",
        "\n",
        "    def __init__(self, csv_path_input, csv_path_labels, data_root):\n",
        "        self.classes = self.read_csv_labels(csv_path_labels)\n",
        "        self.classes_dict = self.get_two_way_dict(self.classes)\n",
        "        self.csv_data = self.read_csv_input(csv_path_input, data_root)\n",
        "\n",
        "    def read_csv_input(self, csv_path, data_root):\n",
        "        csv_data = []\n",
        "        with open(csv_path) as csvfile:\n",
        "            csv_reader = csv.reader(csvfile, delimiter=';')\n",
        "            for row in csv_reader:\n",
        "                item = ListDataJpeg(row[0],\n",
        "                                    row[1],\n",
        "                                    os.path.join(data_root, row[0])\n",
        "                                    )\n",
        "                if row[1] in self.classes:\n",
        "                    csv_data.append(item)\n",
        "        return csv_data\n",
        "\n",
        "    def read_csv_labels(self, csv_path):\n",
        "        classes = []\n",
        "        with open(csv_path) as csvfile:\n",
        "            csv_reader = csv.reader(csvfile)\n",
        "            for row in csv_reader:\n",
        "                classes.append(row[0])\n",
        "        return classes\n",
        "\n",
        "    def get_two_way_dict(self, classes):\n",
        "        classes_dict = {}\n",
        "        for i, item in enumerate(classes):\n",
        "            classes_dict[item] = i\n",
        "            classes_dict[i] = item\n",
        "        return classes_dict"
      ],
      "execution_count": null,
      "outputs": []
    },
    {
      "cell_type": "code",
      "metadata": {
        "id": "k8Mzu9THEm5V"
      },
      "source": [
        "IMG_EXTENSIONS = ['.jpg', '.JPG', '.jpeg', '.JPEG']\n",
        "\n",
        "\n",
        "def default_loader(path):\n",
        "    return Image.open(path).convert('RGB')\n",
        "\n",
        "\n",
        "class VideoFolder(torch.utils.data.Dataset):\n",
        "\n",
        "    def __init__(self, root, csv_file_input, csv_file_labels, clip_size,\n",
        "                 nclips, step_size, is_val, transform=None,\n",
        "                 loader=default_loader):\n",
        "        self.dataset_object = JpegDataset(csv_file_input, csv_file_labels, root)\n",
        "\n",
        "        self.csv_data = self.dataset_object.csv_data\n",
        "        self.classes = self.dataset_object.classes\n",
        "        self.classes_dict = self.dataset_object.classes_dict\n",
        "        self.root = root\n",
        "        self.transform = transform\n",
        "        self.loader = loader\n",
        "\n",
        "        self.clip_size = clip_size\n",
        "        self.nclips = nclips\n",
        "        self.step_size = step_size\n",
        "        self.is_val = is_val\n",
        "\n",
        "    def __getitem__(self, index):\n",
        "        item = self.csv_data[index]\n",
        "        img_paths = self.get_frame_names(item.path)\n",
        "\n",
        "        imgs = []\n",
        "        for img_path in img_paths:\n",
        "            img = self.loader(img_path)\n",
        "            img = self.transform(img)\n",
        "            imgs.append(torch.unsqueeze(img, 0))\n",
        "\n",
        "        target_idx = self.classes_dict[item.label]\n",
        "\n",
        "        # format data to torch\n",
        "        data = torch.cat(imgs)\n",
        "        data = data.permute(1, 0, 2, 3)\n",
        "        return (data, target_idx)\n",
        "\n",
        "    def __len__(self):\n",
        "        return len(self.csv_data)\n",
        "\n",
        "    def get_frame_names(self, path):\n",
        "        frame_names = []\n",
        "        for ext in IMG_EXTENSIONS:\n",
        "            frame_names.extend(glob.glob(os.path.join(path, \"*\" + ext)))\n",
        "        frame_names = list(sorted(frame_names))\n",
        "        num_frames = len(frame_names)\n",
        "\n",
        "        # set number of necessary frames\n",
        "        if self.nclips > -1:\n",
        "            num_frames_necessary = self.clip_size * self.nclips * self.step_size\n",
        "        else:\n",
        "            num_frames_necessary = num_frames\n",
        "\n",
        "        # pick frames\n",
        "        offset = 0\n",
        "        if num_frames_necessary > num_frames:\n",
        "            # pad last frame if video is shorter than necessary\n",
        "            frame_names += [frame_names[-1]] * (num_frames_necessary - num_frames)\n",
        "        elif num_frames_necessary < num_frames:\n",
        "            # If there are more frames, then sample starting offset\n",
        "            diff = (num_frames - num_frames_necessary)\n",
        "            # Temporal augmentation\n",
        "            if not self.is_val:\n",
        "                offset = np.random.randint(0, diff)\n",
        "        frame_names = frame_names[offset:num_frames_necessary +\n",
        "                                  offset:self.step_size]\n",
        "        return frame_names"
      ],
      "execution_count": null,
      "outputs": []
    },
    {
      "cell_type": "markdown",
      "metadata": {
        "id": "iEK61g0XEm5d"
      },
      "source": [
        "transform = Compose([\n",
        "                        CenterCrop(84),\n",
        "                        ToTensor(),\n",
        "                        # Normalize(\n",
        "                        #     mean=[0.485, 0.456, 0.406],\n",
        "                        #     std=[0.229, 0.224, 0.225])\n",
        "                        ])\n",
        "loader = VideoFolder(root=\"/hdd/20bn-datasets/20bn-jester-v1/\",\n",
        "                         csv_file_input=\"csv_files/jester-v1-validation.csv\",\n",
        "                         csv_file_labels=\"csv_files/jester-v1-labels.csv\",\n",
        "                         clip_size=18,\n",
        "                         nclips=1,\n",
        "                         step_size=2,\n",
        "                         is_val=False,\n",
        "                         transform=transform,\n",
        "                         loader=default_loader)\n",
        "    # data_item, target_idx = loader[0]\n",
        "    # save_images_for_debug(\"input_images\", data_item.unsqueeze(0))\n",
        "\n",
        "train_loader = torch.utils.data.DataLoader(\n",
        "        loader,\n",
        "        batch_size=10, shuffle=False,\n",
        "        num_workers=5, pin_memory=True)"
      ]
    },
    {
      "cell_type": "code",
      "metadata": {
        "id": "MD2NEBlKEm5f"
      },
      "source": [
        "transform = tt.Compose([\n",
        "        tt.CenterCrop(84),\n",
        "        tt.ToTensor(),\n",
        "        tt.Normalize(mean=[0.485, 0.456, 0.406],\n",
        "                  std=[0.229, 0.224, 0.225])\n",
        "    ])"
      ],
      "execution_count": null,
      "outputs": []
    },
    {
      "cell_type": "code",
      "metadata": {
        "id": "Nu8komCdEm5p"
      },
      "source": [
        "train_data = VideoFolder(root=\"./data/20bn-jester-v1-short\",\n",
        "                             csv_file_input='./data/jester-v1-train-short.csv',\n",
        "                             csv_file_labels=\"./data/jester-v1-labels-short.csv\",\n",
        "                             clip_size=18,\n",
        "                             nclips=1,\n",
        "                             step_size=2,\n",
        "                             is_val=False,\n",
        "                             transform=transform,\n",
        "                             )\n",
        "train_loader = torch.utils.data.DataLoader(\n",
        "        train_data,\n",
        "        batch_size=10, shuffle=True,\n",
        "        num_workers=0, pin_memory=True,\n",
        "        drop_last=True)"
      ],
      "execution_count": null,
      "outputs": []
    },
    {
      "cell_type": "code",
      "metadata": {
        "id": "4jGxJrK5Em7-",
        "outputId": "87d4825d-79f9-4480-f540-a1e189a4efa7"
      },
      "source": [
        "len(train_loader)"
      ],
      "execution_count": null,
      "outputs": [
        {
          "output_type": "execute_result",
          "data": {
            "text/plain": [
              "1689"
            ]
          },
          "metadata": {
            "tags": []
          },
          "execution_count": 73
        }
      ]
    },
    {
      "cell_type": "code",
      "metadata": {
        "id": "yavRPq-zEm8U"
      },
      "source": [
        "val_data = VideoFolder(root=\"./data/20bn-jester-v1-short\",\n",
        "                           csv_file_input=\"./data/jester-v1-validation-short.csv\",\n",
        "                           csv_file_labels=\"./data/jester-v1-labels-short.csv\",\n",
        "                           clip_size=18,\n",
        "                           nclips=1,\n",
        "                           step_size=2,\n",
        "                           is_val=True,\n",
        "                           transform=transform,\n",
        "                           )\n",
        "\n",
        "val_loader = torch.utils.data.DataLoader(\n",
        "        val_data,\n",
        "        batch_size=10, shuffle=False,\n",
        "        num_workers=0, pin_memory=True,\n",
        "        drop_last=False)"
      ],
      "execution_count": null,
      "outputs": []
    },
    {
      "cell_type": "code",
      "metadata": {
        "id": "_izOhXzyEm8d"
      },
      "source": [
        "class ConvColumn(nn.Module):\n",
        "\n",
        "    def __init__(self, num_classes):\n",
        "        super(ConvColumn, self).__init__()\n",
        "\n",
        "        self.conv_layer1 = self._make_conv_layer(3, 64, (1, 2, 2), (1, 2, 2))\n",
        "        self.conv_layer2 = self._make_conv_layer(64, 128, (2, 2, 2), (2, 2, 2))\n",
        "        self.conv_layer3 = self._make_conv_layer(\n",
        "            128, 256, (2, 2, 2), (2, 2, 2))\n",
        "        self.conv_layer4 = self._make_conv_layer(\n",
        "            256, 256, (2, 2, 2), (2, 2, 2))\n",
        "\n",
        "        self.fc5 = nn.Linear(12800, 512)\n",
        "        self.fc5_act = nn.ELU()\n",
        "        self.fc6 = nn.Linear(512, num_classes)\n",
        "\n",
        "    def _make_conv_layer(self, in_c, out_c, pool_size, stride):\n",
        "        conv_layer = nn.Sequential(\n",
        "            nn.Conv3d(in_c, out_c, kernel_size=3, stride=1, padding=1),\n",
        "            nn.BatchNorm3d(out_c),\n",
        "            nn.ELU(),\n",
        "            nn.MaxPool3d(pool_size, stride=stride, padding=0)\n",
        "        )\n",
        "        return conv_layer\n",
        "\n",
        "    def forward(self, x):\n",
        "        x = self.conv_layer1(x)\n",
        "        x = self.conv_layer2(x)\n",
        "        x = self.conv_layer3(x)\n",
        "        x = self.conv_layer4(x)\n",
        "\n",
        "        x = x.view(x.size(0), -1)\n",
        "\n",
        "        x = self.fc5(x)\n",
        "        x = self.fc5_act(x)\n",
        "\n",
        "        x = self.fc6(x)\n",
        "        return x"
      ],
      "execution_count": null,
      "outputs": []
    },
    {
      "cell_type": "code",
      "metadata": {
        "id": "XTU-b0OqEm8l"
      },
      "source": [
        "device = torch.device('cpu')"
      ],
      "execution_count": null,
      "outputs": []
    },
    {
      "cell_type": "code",
      "metadata": {
        "id": "eUHZwomwEm9F",
        "outputId": "a83eba08-8dd2-45bc-e0e4-55109e942141"
      },
      "source": [
        "model = ConvColumn(27)\n",
        "model"
      ],
      "execution_count": null,
      "outputs": [
        {
          "output_type": "execute_result",
          "data": {
            "text/plain": [
              "ConvColumn(\n",
              "  (conv_layer1): Sequential(\n",
              "    (0): Conv3d(3, 64, kernel_size=(3, 3, 3), stride=(1, 1, 1), padding=(1, 1, 1))\n",
              "    (1): BatchNorm3d(64, eps=1e-05, momentum=0.1, affine=True, track_running_stats=True)\n",
              "    (2): ELU(alpha=1.0)\n",
              "    (3): MaxPool3d(kernel_size=(1, 2, 2), stride=(1, 2, 2), padding=0, dilation=1, ceil_mode=False)\n",
              "  )\n",
              "  (conv_layer2): Sequential(\n",
              "    (0): Conv3d(64, 128, kernel_size=(3, 3, 3), stride=(1, 1, 1), padding=(1, 1, 1))\n",
              "    (1): BatchNorm3d(128, eps=1e-05, momentum=0.1, affine=True, track_running_stats=True)\n",
              "    (2): ELU(alpha=1.0)\n",
              "    (3): MaxPool3d(kernel_size=(2, 2, 2), stride=(2, 2, 2), padding=0, dilation=1, ceil_mode=False)\n",
              "  )\n",
              "  (conv_layer3): Sequential(\n",
              "    (0): Conv3d(128, 256, kernel_size=(3, 3, 3), stride=(1, 1, 1), padding=(1, 1, 1))\n",
              "    (1): BatchNorm3d(256, eps=1e-05, momentum=0.1, affine=True, track_running_stats=True)\n",
              "    (2): ELU(alpha=1.0)\n",
              "    (3): MaxPool3d(kernel_size=(2, 2, 2), stride=(2, 2, 2), padding=0, dilation=1, ceil_mode=False)\n",
              "  )\n",
              "  (conv_layer4): Sequential(\n",
              "    (0): Conv3d(256, 256, kernel_size=(3, 3, 3), stride=(1, 1, 1), padding=(1, 1, 1))\n",
              "    (1): BatchNorm3d(256, eps=1e-05, momentum=0.1, affine=True, track_running_stats=True)\n",
              "    (2): ELU(alpha=1.0)\n",
              "    (3): MaxPool3d(kernel_size=(2, 2, 2), stride=(2, 2, 2), padding=0, dilation=1, ceil_mode=False)\n",
              "  )\n",
              "  (fc5): Linear(in_features=12800, out_features=512, bias=True)\n",
              "  (fc5_act): ELU(alpha=1.0)\n",
              "  (fc6): Linear(in_features=512, out_features=27, bias=True)\n",
              ")"
            ]
          },
          "metadata": {
            "tags": []
          },
          "execution_count": 77
        }
      ]
    },
    {
      "cell_type": "code",
      "metadata": {
        "id": "8o9dtxg-Em9l"
      },
      "source": [
        "criterion = nn.CrossEntropyLoss().to(device)"
      ],
      "execution_count": null,
      "outputs": []
    },
    {
      "cell_type": "code",
      "metadata": {
        "id": "dycXAjCiEm-O"
      },
      "source": [
        "#define optimizer\n",
        "epochs = 50\n",
        "max_lr = 0.008\n",
        "lr = 0.001\n",
        "last_lr = 0.00001\n",
        "momentum = 0.9\n",
        "weight_decay = 0.00001\n",
        "optimizer = torch.optim.SGD(model.parameters(), lr,\n",
        "                                momentum=momentum,\n",
        "                                weight_decay=weight_decay)"
      ],
      "execution_count": null,
      "outputs": []
    },
    {
      "cell_type": "markdown",
      "metadata": {
        "id": "e-_rL748Em_K"
      },
      "source": [
        "epochs = 50\n",
        "max_lr = 0.008\n",
        "grad_clip = 0.1\n",
        "weight_decay = 1e-4\n",
        "optimizer = torch.optim.SGD(model.parameters(), lr, momentum=momentum, weight_decay=weight_decay)"
      ]
    },
    {
      "cell_type": "code",
      "metadata": {
        "id": "mMWEoZI1Em_R",
        "outputId": "0c82b630-e152-4022-f145-a798bb1c6fe7"
      },
      "source": [
        "print(torch.__version__)\n",
        "scheduler = torch.optim.lr_scheduler.OneCycleLR(optimizer, max_lr, epochs=epochs, \n",
        "                                                steps_per_epoch=len(train_loader))"
      ],
      "execution_count": null,
      "outputs": [
        {
          "output_type": "stream",
          "text": [
            "1.6.0\n"
          ],
          "name": "stdout"
        }
      ]
    },
    {
      "cell_type": "markdown",
      "metadata": {
        "id": "zLFEOALCEm_d"
      },
      "source": [
        "for batch_idx, (data, labels) in enumerate(train_loader):\n",
        "    pass"
      ]
    },
    {
      "cell_type": "code",
      "metadata": {
        "id": "M6z66TO0Em_e",
        "outputId": "d83318b6-93c7-4e73-8020-177a6503b544"
      },
      "source": [
        "epoch_losses = []\n",
        "\n",
        "for epoch in range(epochs):\n",
        "    \n",
        "    time1 = time.time()\n",
        "    running_loss = 0.0\n",
        "    epoch_loss = []\n",
        "    for batch_idx, (data, labels) in enumerate(train_loader):\n",
        "        data, labels = Variable(data), Variable(labels)\n",
        "        #data = data.cuda()\n",
        "        #labels = labels.cuda()\n",
        "        \n",
        "        \n",
        "        optimizer.zero_grad()\n",
        "        \n",
        "        outputs = model(data)\n",
        "        loss = F.cross_entropy(outputs, labels)\n",
        "        loss.backward()\n",
        "        optimizer.step()\n",
        "        scheduler.step()\n",
        "        \n",
        "        running_loss += loss.item()\n",
        "        epoch_loss.append(loss.item())\n",
        "        if (batch_idx+1) % 100 == 99:\n",
        "            print(f'Train Epoch: {epoch+1}, Loss: {running_loss/100}')\n",
        "            time2 = time.time()\n",
        "            print(f'Spend time for 10000 images: {time2 - time1} sec')\n",
        "            time1 = time.time()\n",
        "            running_loss = 0.0\n",
        "    print(f'Epoch {epoch+1}, loss: ', np.mean(epoch_loss))\n",
        "    epoch_losses.append(epoch_loss)"
      ],
      "execution_count": null,
      "outputs": [
        {
          "output_type": "stream",
          "text": [
            "Train Epoch: 1, Loss: 1.6060215157270432\n",
            "Spend time for 10000 images: 2025.9248452186584 sec\n"
          ],
          "name": "stdout"
        }
      ]
    },
    {
      "cell_type": "code",
      "metadata": {
        "id": "9xDfVUOdEm_m"
      },
      "source": [
        "losses = [np.mean(loss) for loss in epoch_losses]\n",
        "plt.plot(losses, '-x')\n",
        "plt.xlabel('epoch')\n",
        "plt.ylabel('losses')\n",
        "plt.title('losses vs. No. of epochs')"
      ],
      "execution_count": null,
      "outputs": []
    },
    {
      "cell_type": "code",
      "metadata": {
        "id": "FVzPXYJyEm_2"
      },
      "source": [
        "torch.save(model.state_dict(), './models/proba.pth')"
      ],
      "execution_count": null,
      "outputs": []
    }
  ]
}