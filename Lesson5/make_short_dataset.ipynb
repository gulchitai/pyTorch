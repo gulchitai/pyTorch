{
 "cells": [
  {
   "cell_type": "code",
   "execution_count": 1,
   "metadata": {},
   "outputs": [],
   "source": [
    "import numpy as np\n",
    "import pandas as pd"
   ]
  },
  {
   "cell_type": "code",
   "execution_count": 15,
   "metadata": {},
   "outputs": [],
   "source": [
    "LABELS = {\n",
    "    \"Swiping Right\": \"Swiping Right\",\n",
    "    \"Swiping Left\": \"Swiping Left\",\n",
    "    \"No gesture\": \"No gesture\",\n",
    "    \"Thumb Up\": \"Thumb Up\",\n",
    "}"
   ]
  },
  {
   "cell_type": "code",
   "execution_count": 16,
   "metadata": {},
   "outputs": [],
   "source": [
    "BASE_PATH = './data'\n",
    "TRAIN_DATA_CSV = BASE_PATH + '/jester-v1-train.csv'\n",
    "TEST_DATA_CSV = BASE_PATH + '/jester-v1-test.csv'\n",
    "VAL_DATA_CSV = BASE_PATH + '/jester-v1-validation.csv'"
   ]
  },
  {
   "cell_type": "code",
   "execution_count": 17,
   "metadata": {},
   "outputs": [
    {
     "data": {
      "text/plain": [
       "dict_items([('Swiping Right', 'Swiping Right'), ('Swiping Left', 'Swiping Left'), ('No gesture', 'No gesture'), ('Thumb Up', 'Thumb Up')])"
      ]
     },
     "execution_count": 17,
     "metadata": {},
     "output_type": "execute_result"
    }
   ],
   "source": [
    "LABELS.items()"
   ]
  },
  {
   "cell_type": "code",
   "execution_count": 18,
   "metadata": {},
   "outputs": [],
   "source": [
    "targets = pd.read_csv(TRAIN_DATA_CSV, sep=';', header=None, names=['video_id','label'])\n",
    "targets = targets[targets['label'].isin(LABELS.keys())]\n",
    "targets['label'] = targets['label'].map(LABELS)\n",
    "targets = targets.reset_index()\n",
    "targets = targets[['video_id', 'label']]"
   ]
  },
  {
   "cell_type": "code",
   "execution_count": 19,
   "metadata": {},
   "outputs": [
    {
     "data": {
      "text/html": [
       "<div>\n",
       "<style scoped>\n",
       "    .dataframe tbody tr th:only-of-type {\n",
       "        vertical-align: middle;\n",
       "    }\n",
       "\n",
       "    .dataframe tbody tr th {\n",
       "        vertical-align: top;\n",
       "    }\n",
       "\n",
       "    .dataframe thead th {\n",
       "        text-align: right;\n",
       "    }\n",
       "</style>\n",
       "<table border=\"1\" class=\"dataframe\">\n",
       "  <thead>\n",
       "    <tr style=\"text-align: right;\">\n",
       "      <th></th>\n",
       "      <th>video_id</th>\n",
       "      <th>label</th>\n",
       "    </tr>\n",
       "  </thead>\n",
       "  <tbody>\n",
       "    <tr>\n",
       "      <th>0</th>\n",
       "      <td>136859</td>\n",
       "      <td>Thumb Up</td>\n",
       "    </tr>\n",
       "    <tr>\n",
       "      <th>1</th>\n",
       "      <td>68574</td>\n",
       "      <td>Swiping Right</td>\n",
       "    </tr>\n",
       "    <tr>\n",
       "      <th>2</th>\n",
       "      <td>20706</td>\n",
       "      <td>No gesture</td>\n",
       "    </tr>\n",
       "    <tr>\n",
       "      <th>3</th>\n",
       "      <td>39493</td>\n",
       "      <td>No gesture</td>\n",
       "    </tr>\n",
       "    <tr>\n",
       "      <th>4</th>\n",
       "      <td>62818</td>\n",
       "      <td>Swiping Left</td>\n",
       "    </tr>\n",
       "  </tbody>\n",
       "</table>\n",
       "</div>"
      ],
      "text/plain": [
       "   video_id          label\n",
       "0    136859       Thumb Up\n",
       "1     68574  Swiping Right\n",
       "2     20706     No gesture\n",
       "3     39493     No gesture\n",
       "4     62818   Swiping Left"
      ]
     },
     "execution_count": 19,
     "metadata": {},
     "output_type": "execute_result"
    }
   ],
   "source": [
    "targets.head()"
   ]
  },
  {
   "cell_type": "code",
   "execution_count": 23,
   "metadata": {},
   "outputs": [],
   "source": [
    "targets.to_csv (BASE_PATH+'/jester-v1-train-short.csv', index = False, header=False, sep=';')"
   ]
  },
  {
   "cell_type": "code",
   "execution_count": 24,
   "metadata": {},
   "outputs": [],
   "source": [
    "vals = pd.read_csv(VAL_DATA_CSV, sep=';', header=None, names=['video_id','label'])\n",
    "vals = vals[vals['label'].isin(LABELS.keys())]\n",
    "vals['label'] = vals['label'].map(LABELS)\n",
    "vals = vals.reset_index()\n",
    "vals = vals[['video_id', 'label']]"
   ]
  },
  {
   "cell_type": "code",
   "execution_count": 25,
   "metadata": {},
   "outputs": [
    {
     "data": {
      "text/html": [
       "<div>\n",
       "<style scoped>\n",
       "    .dataframe tbody tr th:only-of-type {\n",
       "        vertical-align: middle;\n",
       "    }\n",
       "\n",
       "    .dataframe tbody tr th {\n",
       "        vertical-align: top;\n",
       "    }\n",
       "\n",
       "    .dataframe thead th {\n",
       "        text-align: right;\n",
       "    }\n",
       "</style>\n",
       "<table border=\"1\" class=\"dataframe\">\n",
       "  <thead>\n",
       "    <tr style=\"text-align: right;\">\n",
       "      <th></th>\n",
       "      <th>video_id</th>\n",
       "      <th>label</th>\n",
       "    </tr>\n",
       "  </thead>\n",
       "  <tbody>\n",
       "    <tr>\n",
       "      <th>0</th>\n",
       "      <td>9223</td>\n",
       "      <td>Thumb Up</td>\n",
       "    </tr>\n",
       "    <tr>\n",
       "      <th>1</th>\n",
       "      <td>42920</td>\n",
       "      <td>Swiping Left</td>\n",
       "    </tr>\n",
       "    <tr>\n",
       "      <th>2</th>\n",
       "      <td>94928</td>\n",
       "      <td>Swiping Right</td>\n",
       "    </tr>\n",
       "    <tr>\n",
       "      <th>3</th>\n",
       "      <td>117498</td>\n",
       "      <td>Swiping Left</td>\n",
       "    </tr>\n",
       "    <tr>\n",
       "      <th>4</th>\n",
       "      <td>123292</td>\n",
       "      <td>Thumb Up</td>\n",
       "    </tr>\n",
       "  </tbody>\n",
       "</table>\n",
       "</div>"
      ],
      "text/plain": [
       "   video_id          label\n",
       "0      9223       Thumb Up\n",
       "1     42920   Swiping Left\n",
       "2     94928  Swiping Right\n",
       "3    117498   Swiping Left\n",
       "4    123292       Thumb Up"
      ]
     },
     "execution_count": 25,
     "metadata": {},
     "output_type": "execute_result"
    }
   ],
   "source": [
    "vals.head()"
   ]
  },
  {
   "cell_type": "code",
   "execution_count": 26,
   "metadata": {},
   "outputs": [],
   "source": [
    "vals.to_csv (BASE_PATH+'/jester-v1-validation-short.csv', index = False, header=False, sep=';')"
   ]
  },
  {
   "cell_type": "code",
   "execution_count": 37,
   "metadata": {},
   "outputs": [],
   "source": [
    "all_dirs = set(targets['video_id']).union(set(vals['video_id']))"
   ]
  },
  {
   "cell_type": "code",
   "execution_count": null,
   "metadata": {},
   "outputs": [],
   "source": [
    "import os\n",
    "import shutil\n",
    "\n",
    "PATH_SOURCE = \"./data/20bn-jester-v1/\"\n",
    "PATH_DEST = \"./data/20bn-jester-v1-short/\"\n",
    "\n",
    "if not os.path.exists(PATH_DEST):\n",
    "    os.mkdir(PATH_DEST)\n",
    "for d in all_dirs:\n",
    "    if not os.path.exists(PATH_DEST+str(d)):\n",
    "        os.mkdir(PATH_DEST+str(d))\n",
    "    files = os.listdir(PATH_SOURCE+str(d))\n",
    "    for f in files:\n",
    "        shutil.copyfile(PATH_SOURCE+str(d)+'/'+f, PATH_DEST+str(d)+'/'+f)"
   ]
  },
  {
   "cell_type": "code",
   "execution_count": null,
   "metadata": {},
   "outputs": [],
   "source": []
  }
 ],
 "metadata": {
  "kernelspec": {
   "display_name": "Python 3",
   "language": "python",
   "name": "python3"
  },
  "language_info": {
   "codemirror_mode": {
    "name": "ipython",
    "version": 3
   },
   "file_extension": ".py",
   "mimetype": "text/x-python",
   "name": "python",
   "nbconvert_exporter": "python",
   "pygments_lexer": "ipython3",
   "version": "3.7.4"
  }
 },
 "nbformat": 4,
 "nbformat_minor": 4
}
